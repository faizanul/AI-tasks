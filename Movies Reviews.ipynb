{
  "nbformat": 4,
  "nbformat_minor": 0,
  "metadata": {
    "colab": {
      "name": "Untitled3.ipynb",
      "version": "0.3.2",
      "provenance": [],
      "collapsed_sections": []
    },
    "kernelspec": {
      "name": "python3",
      "display_name": "Python 3"
    }
  },
  "cells": [
    {
      "metadata": {
        "id": "IgCLL_cYSHBr",
        "colab_type": "code",
        "colab": {
          "base_uri": "https://localhost:8080/",
          "height": 68
        },
        "outputId": "cf5b4688-4540-4862-e149-738a3ee0484a"
      },
      "cell_type": "code",
      "source": [
        "from keras.datasets import imdb \n",
        "\n",
        "(train_data, train_labels), (test_data, test_labels) = imdb.load_data(num_words = 10000)"
      ],
      "execution_count": 1,
      "outputs": [
        {
          "output_type": "stream",
          "text": [
            "Using TensorFlow backend.\n"
          ],
          "name": "stderr"
        },
        {
          "output_type": "stream",
          "text": [
            "Downloading data from https://s3.amazonaws.com/text-datasets/imdb.npz\n",
            "17465344/17464789 [==============================] - 0s 0us/step\n"
          ],
          "name": "stdout"
        }
      ]
    },
    {
      "metadata": {
        "id": "3PY1xq2zSV0g",
        "colab_type": "code",
        "colab": {
          "base_uri": "https://localhost:8080/",
          "height": 34
        },
        "outputId": "d98c628d-d22e-4d12-95df-61421ba37cd5"
      },
      "cell_type": "code",
      "source": [
        "max([max(sequence) for sequence in train_data])"
      ],
      "execution_count": 2,
      "outputs": [
        {
          "output_type": "execute_result",
          "data": {
            "text/plain": [
              "9999"
            ]
          },
          "metadata": {
            "tags": []
          },
          "execution_count": 2
        }
      ]
    },
    {
      "metadata": {
        "id": "2vUQd6SzSZs2",
        "colab_type": "code",
        "colab": {
          "base_uri": "https://localhost:8080/",
          "height": 51
        },
        "outputId": "69c3b55c-091a-4c3b-a9a1-ca5cf7109086"
      },
      "cell_type": "code",
      "source": [
        "import collections\n",
        "\n",
        "word_index = imdb.get_word_index()\n",
        "reverse_word_index = dict(\n",
        "    [(value, key) for (value, key) in word_index.items()])\n",
        "\n",
        "decoded_review = ' '.join(\n",
        "    [reverse_word_index.get(i - 3, '?') for i in train_data[0]])"
      ],
      "execution_count": 3,
      "outputs": [
        {
          "output_type": "stream",
          "text": [
            "Downloading data from https://s3.amazonaws.com/text-datasets/imdb_word_index.json\n",
            "1646592/1641221 [==============================] - 0s 0us/step\n"
          ],
          "name": "stdout"
        }
      ]
    },
    {
      "metadata": {
        "id": "jUP9ZqwYSgXF",
        "colab_type": "code",
        "colab": {}
      },
      "cell_type": "code",
      "source": [
        "import numpy as np\n",
        "def vectorize_sequences(sequences, dimension=10000):\n",
        "    results = np.zeros((len(sequences), dimension))\n",
        "    for i, sequence in enumerate(sequences):\n",
        "        results[i, sequence] = 1.\n",
        "    return results\n",
        "\n",
        "x_train = vectorize_sequences(train_data)\n",
        "x_test = vectorize_sequences(test_data)"
      ],
      "execution_count": 0,
      "outputs": []
    },
    {
      "metadata": {
        "id": "TrMCF6-bSoFt",
        "colab_type": "code",
        "colab": {}
      },
      "cell_type": "code",
      "source": [
        "y_train = np.asarray(train_labels).astype('float32')\n",
        "y_test = np.asarray(test_labels).astype('float32')"
      ],
      "execution_count": 0,
      "outputs": []
    },
    {
      "metadata": {
        "id": "cSB3Jx-TSq-9",
        "colab_type": "code",
        "colab": {}
      },
      "cell_type": "code",
      "source": [
        "from keras import models\n",
        "from keras import layers\n",
        "model = models.Sequential()\n",
        "model.add(layers.Dense(16, activation='relu', input_shape=(10000,)))\n",
        "model.add(layers.Dense(16, activation='relu'))\n",
        "model.add(layers.Dense(1, activation='sigmoid'))"
      ],
      "execution_count": 0,
      "outputs": []
    },
    {
      "metadata": {
        "id": "LYFnQEEGSzm8",
        "colab_type": "code",
        "colab": {}
      },
      "cell_type": "code",
      "source": [
        "model.compile(optimizer='rmsprop',\n",
        "              loss='binary_crossentropy',\n",
        "              metrics=['accuracy'])"
      ],
      "execution_count": 0,
      "outputs": []
    },
    {
      "metadata": {
        "id": "DYvLXFmtS2jM",
        "colab_type": "code",
        "colab": {}
      },
      "cell_type": "code",
      "source": [
        "from keras import optimizers\n",
        "\n",
        "model.compile(optimizer=optimizers.RMSprop(lr=0.001),\n",
        "              loss='binary_crossentropy',\n",
        "              metrics=['accuracy'])"
      ],
      "execution_count": 0,
      "outputs": []
    },
    {
      "metadata": {
        "id": "vqhKFgUjS-Ez",
        "colab_type": "code",
        "colab": {}
      },
      "cell_type": "code",
      "source": [
        "from keras import losses\n",
        "from keras import metrics\n",
        "\n",
        "model.compile(optimizer=optimizers.RMSprop(lr=0.001),\n",
        "              loss=losses.binary_crossentropy,\n",
        "              metrics=[metrics.binary_accuracy])"
      ],
      "execution_count": 0,
      "outputs": []
    },
    {
      "metadata": {
        "id": "ZCyDanjJTEfM",
        "colab_type": "code",
        "colab": {}
      },
      "cell_type": "code",
      "source": [
        "x_val = x_train[:10000]\n",
        "partial_x_train = x_train[10000:]\n",
        "y_val = y_train[:10000]\n",
        "partial_y_train = y_train[10000:]"
      ],
      "execution_count": 0,
      "outputs": []
    },
    {
      "metadata": {
        "id": "JZJOxdYITK5T",
        "colab_type": "code",
        "colab": {
          "base_uri": "https://localhost:8080/",
          "height": 734
        },
        "outputId": "c0447669-c670-4ff3-f8fb-1028f8e22cbe"
      },
      "cell_type": "code",
      "source": [
        "model.compile(optimizer='rmsprop',\n",
        "loss='binary_crossentropy',\n",
        "              metrics=['acc'])\n",
        "history = model.fit(partial_x_train,\n",
        "                    partial_y_train,\n",
        "                    epochs=20,\n",
        "                    batch_size=512,\n",
        "                    validation_data=(x_val, y_val))"
      ],
      "execution_count": 14,
      "outputs": [
        {
          "output_type": "stream",
          "text": [
            "Train on 15000 samples, validate on 10000 samples\n",
            "Epoch 1/20\n",
            "15000/15000 [==============================] - 3s 186us/step - loss: 0.5048 - acc: 0.7871 - val_loss: 0.3774 - val_acc: 0.8705\n",
            "Epoch 2/20\n",
            "15000/15000 [==============================] - 3s 182us/step - loss: 0.2992 - acc: 0.9044 - val_loss: 0.3001 - val_acc: 0.8900\n",
            "Epoch 3/20\n",
            "15000/15000 [==============================] - 3s 182us/step - loss: 0.2173 - acc: 0.9283 - val_loss: 0.3081 - val_acc: 0.8716\n",
            "Epoch 4/20\n",
            "15000/15000 [==============================] - 3s 184us/step - loss: 0.1747 - acc: 0.9439 - val_loss: 0.2825 - val_acc: 0.8848\n",
            "Epoch 5/20\n",
            "15000/15000 [==============================] - 3s 183us/step - loss: 0.1422 - acc: 0.9539 - val_loss: 0.2855 - val_acc: 0.8856\n",
            "Epoch 6/20\n",
            "15000/15000 [==============================] - 3s 185us/step - loss: 0.1148 - acc: 0.9651 - val_loss: 0.3144 - val_acc: 0.8775\n",
            "Epoch 7/20\n",
            "15000/15000 [==============================] - 3s 184us/step - loss: 0.0978 - acc: 0.9708 - val_loss: 0.3130 - val_acc: 0.8841\n",
            "Epoch 8/20\n",
            "15000/15000 [==============================] - 3s 183us/step - loss: 0.0806 - acc: 0.9764 - val_loss: 0.3861 - val_acc: 0.8653\n",
            "Epoch 9/20\n",
            "15000/15000 [==============================] - 3s 181us/step - loss: 0.0661 - acc: 0.9820 - val_loss: 0.3639 - val_acc: 0.8775\n",
            "Epoch 10/20\n",
            "15000/15000 [==============================] - 3s 181us/step - loss: 0.0564 - acc: 0.9849 - val_loss: 0.3849 - val_acc: 0.8778\n",
            "Epoch 11/20\n",
            "15000/15000 [==============================] - 3s 184us/step - loss: 0.0437 - acc: 0.9902 - val_loss: 0.4169 - val_acc: 0.8765\n",
            "Epoch 12/20\n",
            "15000/15000 [==============================] - 3s 183us/step - loss: 0.0385 - acc: 0.9915 - val_loss: 0.4547 - val_acc: 0.8698\n",
            "Epoch 13/20\n",
            "15000/15000 [==============================] - 3s 182us/step - loss: 0.0302 - acc: 0.9931 - val_loss: 0.4687 - val_acc: 0.8731\n",
            "Epoch 14/20\n",
            "15000/15000 [==============================] - 3s 183us/step - loss: 0.0250 - acc: 0.9944 - val_loss: 0.5012 - val_acc: 0.8728\n",
            "Epoch 15/20\n",
            "15000/15000 [==============================] - 3s 180us/step - loss: 0.0179 - acc: 0.9980 - val_loss: 0.5327 - val_acc: 0.8686\n",
            "Epoch 16/20\n",
            "15000/15000 [==============================] - 3s 182us/step - loss: 0.0160 - acc: 0.9977 - val_loss: 0.5750 - val_acc: 0.8689\n",
            "Epoch 17/20\n",
            "15000/15000 [==============================] - 3s 184us/step - loss: 0.0102 - acc: 0.9992 - val_loss: 0.6464 - val_acc: 0.8612\n",
            "Epoch 18/20\n",
            "15000/15000 [==============================] - 3s 183us/step - loss: 0.0121 - acc: 0.9970 - val_loss: 0.6441 - val_acc: 0.8673\n",
            "Epoch 19/20\n",
            "15000/15000 [==============================] - 3s 183us/step - loss: 0.0054 - acc: 0.9997 - val_loss: 0.7276 - val_acc: 0.8567\n",
            "Epoch 20/20\n",
            "15000/15000 [==============================] - 3s 183us/step - loss: 0.0097 - acc: 0.9981 - val_loss: 0.7026 - val_acc: 0.8655\n"
          ],
          "name": "stdout"
        }
      ]
    },
    {
      "metadata": {
        "id": "C0dF8xgNTViz",
        "colab_type": "code",
        "colab": {
          "base_uri": "https://localhost:8080/",
          "height": 393
        },
        "outputId": "fb6b7f2d-4646-4ad0-a096-2f22492167b7"
      },
      "cell_type": "code",
      "source": [
        "import matplotlib.pyplot as plt\n",
        "history_dict = history.history\n",
        "loss_values = history_dict['loss']\n",
        "val_loss_values = history_dict['val_loss']\n",
        "acc = history_dict['acc']\n",
        "epochs = list(range(1, len(acc) + 1))\n",
        "plt.plot(epochs, loss_values, 'bo', label='Training loss')\n",
        "plt.plot(epochs, val_loss_values, 'b', label='Validation loss')\n",
        "plt.title('Training and validation loss')\n",
        "plt.xlabel('Epochs')\n",
        "plt.ylabel('Loss')\n",
        "plt.legend()\n",
        "plt.show()\n",
        "print(\"Figure 1 Training and validation loss\")"
      ],
      "execution_count": 15,
      "outputs": [
        {
          "output_type": "display_data",
          "data": {
            "image/png": "[encoded data removed]",
            "text/plain": [
              "<matplotlib.figure.Figure at 0x7fc770ccc668>"
            ]
          },
          "metadata": {
            "tags": []
          }
        },
        {
          "output_type": "stream",
          "text": [
            "Figure 1 Training and validation loss\n"
          ],
          "name": "stdout"
        }
      ]
    },
    {
      "metadata": {
        "id": "DjMvi2doTXp6",
        "colab_type": "code",
        "colab": {
          "base_uri": "https://localhost:8080/",
          "height": 393
        },
        "outputId": "20f77d9d-142b-4e5f-9c8f-a46219f77db0"
      },
      "cell_type": "code",
      "source": [
        "plt.clf()\n",
        "acc_values = history_dict['acc']\n",
        "val_acc_values = history_dict['val_acc']\n",
        "plt.plot(epochs, acc, 'bo', label='Training acc')\n",
        "plt.plot(epochs, val_acc_values, 'b', label='Validation acc')\n",
        "plt.title('Training and validation accuracy')\n",
        "plt.xlabel('Epochs')\n",
        "plt.ylabel('Loss')\n",
        "plt.legend()\n",
        "plt.show()\n",
        "print(\"Figure 2 Training and validation accuracy\")"
      ],
      "execution_count": 16,
      "outputs": [
        {
          "output_type": "display_data",
          "data": {
            "image/png": "[encoded data removed]",
            "text/plain": [
              "<matplotlib.figure.Figure at 0x7fc768958438>"
            ]
          },
          "metadata": {
            "tags": []
          }
        },
        {
          "output_type": "stream",
          "text": [
            "Figure 2 Training and validation accuracy\n"
          ],
          "name": "stdout"
        }
      ]
    },
    {
      "metadata": {
        "id": "NbiTGhPpTeXJ",
        "colab_type": "code",
        "colab": {
          "base_uri": "https://localhost:8080/",
          "height": 170
        },
        "outputId": "2862dfc1-9850-4525-fdab-459eceebf999"
      },
      "cell_type": "code",
      "source": [
        "model = models.Sequential()\n",
        "model.add(layers.Dense(16, activation='relu', input_shape=(10000,)))\n",
        "model.add(layers.Dense(16, activation='relu'))\n",
        "model.add(layers.Dense(1, activation='sigmoid'))\n",
        "model.compile(optimizer='rmsprop',\n",
        "              loss='binary_crossentropy',\n",
        "              metrics=['accuracy'])\n",
        "model.fit(x_train, y_train, epochs=4, batch_size=512)\n",
        "results = model.evaluate(x_test, y_test)"
      ],
      "execution_count": 17,
      "outputs": [
        {
          "output_type": "stream",
          "text": [
            "Epoch 1/4\n",
            "25000/25000 [==============================] - 3s 131us/step - loss: 0.4737 - acc: 0.8219\n",
            "Epoch 2/4\n",
            "25000/25000 [==============================] - 3s 128us/step - loss: 0.2674 - acc: 0.9092\n",
            "Epoch 3/4\n",
            "25000/25000 [==============================] - 3s 127us/step - loss: 0.2033 - acc: 0.9285\n",
            "Epoch 4/4\n",
            "25000/25000 [==============================] - 3s 127us/step - loss: 0.1714 - acc: 0.9388\n",
            "25000/25000 [==============================] - 3s 102us/step\n"
          ],
          "name": "stdout"
        }
      ]
    }
  ]
}